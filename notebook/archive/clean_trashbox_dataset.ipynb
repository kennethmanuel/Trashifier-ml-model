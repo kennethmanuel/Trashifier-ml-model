{
 "cells": [
  {
   "cell_type": "code",
   "execution_count": 7,
   "id": "a3c6aa9c-27d7-42ef-aef2-3898c28dad4d",
   "metadata": {},
   "outputs": [
    {
     "name": "stdout",
     "output_type": "stream",
     "text": [
      "processing class directory  cardboard\n",
      "processing class directory  e-waste\n"
     ]
    },
    {
     "name": "stderr",
     "output_type": "stream",
     "text": [
      "libpng warning: iCCP: profile 'ICC Profile': 1000000h: invalid rendering intent\n"
     ]
    },
    {
     "name": "stdout",
     "output_type": "stream",
     "text": [
      "processing class directory  glass\n",
      "file  ../dataset/trashbox/train/glass/glass 1160.jpg  is not a valid image file\n"
     ]
    },
    {
     "name": "stderr",
     "output_type": "stream",
     "text": [
      "libpng warning: iCCP: known incorrect sRGB profile\n",
      "libpng warning: iCCP: known incorrect sRGB profile\n",
      "libpng warning: iCCP: known incorrect sRGB profile\n"
     ]
    },
    {
     "name": "stdout",
     "output_type": "stream",
     "text": [
      "file  ../dataset/trashbox/train/glass/glass 1662.jpg  is not a valid image file\n",
      "file  ../dataset/trashbox/train/glass/glass 1564.jpg  is not a valid image file\n",
      "file  ../dataset/trashbox/train/glass/glass 1845.jpg  is not a valid image file\n"
     ]
    },
    {
     "name": "stderr",
     "output_type": "stream",
     "text": [
      "libpng warning: iCCP: known incorrect sRGB profile\n"
     ]
    },
    {
     "name": "stdout",
     "output_type": "stream",
     "text": [
      "file  ../dataset/trashbox/train/glass/glass 2388.jpg  is not a valid image file\n"
     ]
    },
    {
     "name": "stderr",
     "output_type": "stream",
     "text": [
      "libpng warning: iCCP: known incorrect sRGB profile\n"
     ]
    },
    {
     "name": "stdout",
     "output_type": "stream",
     "text": [
      "processing class directory  medical\n"
     ]
    },
    {
     "name": "stderr",
     "output_type": "stream",
     "text": [
      "libpng warning: iCCP: known incorrect sRGB profile\n"
     ]
    },
    {
     "name": "stdout",
     "output_type": "stream",
     "text": [
      "file  ../dataset/trashbox/train/medical/medical 1385.jpg  is not a valid image file\n"
     ]
    },
    {
     "name": "stderr",
     "output_type": "stream",
     "text": [
      "libpng warning: iCCP: known incorrect sRGB profile\n",
      "libpng warning: iCCP: cHRM chunk does not match sRGB\n",
      "libpng warning: cHRM: inconsistent chromaticities\n",
      "libpng warning: iCCP: known incorrect sRGB profile\n"
     ]
    },
    {
     "name": "stdout",
     "output_type": "stream",
     "text": [
      "file  ../dataset/trashbox/train/medical/medical 1858.jpg  is not a valid image file\n",
      "processing class directory  metal\n",
      "file  ../dataset/trashbox/train/metal/metal 1772.jpg  is not a valid image file\n",
      "file  ../dataset/trashbox/train/metal/metal 2008.jpg  is not a valid image file\n"
     ]
    },
    {
     "name": "stderr",
     "output_type": "stream",
     "text": [
      "libpng warning: iCCP: extra compressed data\n"
     ]
    },
    {
     "name": "stdout",
     "output_type": "stream",
     "text": [
      "processing class directory  paper\n",
      "file  ../dataset/trashbox/train/paper/paper 1001.jpg  is not a valid image file\n",
      "file  ../dataset/trashbox/train/paper/paper 1919.jpg  is not a valid image file\n",
      "file  ../dataset/trashbox/train/paper/paper 942.jpg  is not a valid image file\n",
      "file  ../dataset/trashbox/train/paper/paper 943.jpg  is not a valid image file\n",
      "processing class directory  plastic\n"
     ]
    },
    {
     "name": "stderr",
     "output_type": "stream",
     "text": [
      "libpng warning: iCCP: known incorrect sRGB profile\n"
     ]
    },
    {
     "name": "stdout",
     "output_type": "stream",
     "text": [
      "improper image files are listed below\n",
      "../dataset/trashbox/train/glass/glass 1160.jpg\n",
      "../dataset/trashbox/train/glass/glass 1662.jpg\n",
      "../dataset/trashbox/train/glass/glass 1564.jpg\n",
      "../dataset/trashbox/train/glass/glass 1845.jpg\n",
      "../dataset/trashbox/train/glass/glass 2388.jpg\n",
      "../dataset/trashbox/train/medical/medical 1385.jpg\n",
      "../dataset/trashbox/train/medical/medical 1858.jpg\n",
      "../dataset/trashbox/train/metal/metal 1772.jpg\n",
      "../dataset/trashbox/train/metal/metal 2008.jpg\n",
      "../dataset/trashbox/train/paper/paper 1001.jpg\n",
      "../dataset/trashbox/train/paper/paper 1919.jpg\n",
      "../dataset/trashbox/train/paper/paper 942.jpg\n",
      "../dataset/trashbox/train/paper/paper 943.jpg\n"
     ]
    }
   ],
   "source": [
    "import os\n",
    "import cv2\n",
    "def check_images( s_dir, ext_list):\n",
    "    bad_images=[]\n",
    "    bad_ext=[]\n",
    "    s_list= os.listdir(s_dir)\n",
    "    for klass in s_list:\n",
    "        klass_path=os.path.join (s_dir, klass)\n",
    "        print ('processing class directory ', klass)\n",
    "        if os.path.isdir(klass_path):\n",
    "            file_list=os.listdir(klass_path)\n",
    "            for f in file_list:               \n",
    "                f_path=os.path.join (klass_path,f)\n",
    "                index=f.rfind('.')\n",
    "                ext=f[index+1:].lower()\n",
    "                if ext not in ext_list:\n",
    "                    print('file ', f_path, ' has an invalid extension ', ext)\n",
    "                    bad_ext.append(f_path)\n",
    "                if os.path.isfile(f_path):\n",
    "                    try:\n",
    "                        img=cv2.imread(f_path)\n",
    "                        shape=img.shape\n",
    "                    except:\n",
    "                        print('file ', f_path, ' is not a valid image file')\n",
    "                        bad_images.append(f_path)\n",
    "                else:\n",
    "                    print('*** fatal error, you a sub directory ', f, ' in class directory ', klass)\n",
    "        else:\n",
    "            print ('*** WARNING*** you have files in ', s_dir, ' it should only contain sub directories')\n",
    "    return bad_images, bad_ext\n",
    "\n",
    "source_dir =r'../dataset/trashbox/train'\n",
    "good_exts=['jpg', 'png', 'jpeg', 'gif', 'bmp' ] # list of acceptable extensions\n",
    "bad_file_list, bad_ext_list=check_images(source_dir, good_exts)\n",
    "if len(bad_file_list) !=0:\n",
    "    print('improper image files are listed below')\n",
    "    for i in range (len(bad_file_list)):\n",
    "        print (bad_file_list[i])\n",
    "else:\n",
    "    print(' no improper image files were found')"
   ]
  },
  {
   "cell_type": "code",
   "execution_count": 1,
   "id": "7b33792a-3e87-4d29-b88a-7d122d8bb5ac",
   "metadata": {},
   "outputs": [
    {
     "name": "stdout",
     "output_type": "stream",
     "text": [
      "processing class directory cardboard\n",
      "processing class directory e-waste\n"
     ]
    },
    {
     "name": "stderr",
     "output_type": "stream",
     "text": [
      "libpng warning: iCCP: profile 'ICC Profile': 1000000h: invalid rendering intent\n"
     ]
    },
    {
     "name": "stdout",
     "output_type": "stream",
     "text": [
      "processing class directory glass\n"
     ]
    },
    {
     "name": "stderr",
     "output_type": "stream",
     "text": [
      "libpng warning: iCCP: known incorrect sRGB profile\n",
      "libpng warning: iCCP: known incorrect sRGB profile\n",
      "libpng warning: iCCP: known incorrect sRGB profile\n",
      "libpng warning: iCCP: known incorrect sRGB profile\n",
      "libpng warning: iCCP: known incorrect sRGB profile\n"
     ]
    },
    {
     "name": "stdout",
     "output_type": "stream",
     "text": [
      "processing class directory medical\n"
     ]
    },
    {
     "name": "stderr",
     "output_type": "stream",
     "text": [
      "libpng warning: iCCP: known incorrect sRGB profile\n",
      "libpng warning: iCCP: known incorrect sRGB profile\n",
      "libpng warning: iCCP: cHRM chunk does not match sRGB\n",
      "libpng warning: cHRM: inconsistent chromaticities\n",
      "libpng warning: iCCP: known incorrect sRGB profile\n"
     ]
    },
    {
     "name": "stdout",
     "output_type": "stream",
     "text": [
      "processing class directory metal\n"
     ]
    },
    {
     "name": "stderr",
     "output_type": "stream",
     "text": [
      "libpng warning: iCCP: extra compressed data\n"
     ]
    },
    {
     "name": "stdout",
     "output_type": "stream",
     "text": [
      "processing class directory paper\n",
      "processing class directory plastic\n"
     ]
    },
    {
     "name": "stderr",
     "output_type": "stream",
     "text": [
      "libpng warning: iCCP: known incorrect sRGB profile\n"
     ]
    },
    {
     "name": "stdout",
     "output_type": "stream",
     "text": [
      "no improper image files were found\n"
     ]
    }
   ],
   "source": [
    "import os\n",
    "import cv2\n",
    "\n",
    "def check_images(s_dir, ext_list):\n",
    "    bad_images = []\n",
    "    bad_ext = []\n",
    "    s_list = os.listdir(s_dir)\n",
    "    \n",
    "    for klass in s_list:\n",
    "        klass_path = os.path.join(s_dir, klass)\n",
    "        print('processing class directory', klass)\n",
    "        \n",
    "        if os.path.isdir(klass_path):\n",
    "            file_list = os.listdir(klass_path)\n",
    "            \n",
    "            for f in file_list:\n",
    "                f_path = os.path.join(klass_path, f)\n",
    "                index = f.rfind('.')\n",
    "                ext = f[index + 1:].lower()\n",
    "                \n",
    "                if ext not in ext_list:\n",
    "                    print('file', f_path, 'has an invalid extension', ext)\n",
    "                    bad_ext.append(f_path)\n",
    "                    os.remove(f_path)  # Remove the file\n",
    "                \n",
    "                if os.path.isfile(f_path):\n",
    "                    try:\n",
    "                        img = cv2.imread(f_path)\n",
    "                        shape = img.shape\n",
    "                    except:\n",
    "                        print('file', f_path, 'is not a valid image file')\n",
    "                        bad_images.append(f_path)\n",
    "                        os.remove(f_path)  # Remove the file\n",
    "                else:\n",
    "                    print('*** fatal error, you have a subdirectory', f, 'in class directory', klass)\n",
    "        else:\n",
    "            print('*** WARNING*** you have files in', s_dir, 'it should only contain subdirectories')\n",
    "    \n",
    "    return bad_images, bad_ext\n",
    "\n",
    "source_dir = r'../dataset/trashbox/train'\n",
    "good_exts = ['jpg', 'png', 'jpeg', 'gif', 'bmp']  # list of acceptable extensions\n",
    "bad_file_list, bad_ext_list = check_images(source_dir, good_exts)\n",
    "\n",
    "if len(bad_file_list) != 0:\n",
    "    print('improper image files are listed below')\n",
    "    for i in range(len(bad_file_list)):\n",
    "        print(bad_file_list[i])\n",
    "else:\n",
    "    print('no improper image files were found')"
   ]
  },
  {
   "cell_type": "code",
   "execution_count": null,
   "id": "b54d2097-0484-4a7e-8c98-a7f30f4822e4",
   "metadata": {},
   "outputs": [],
   "source": [
    "from pathlib import Path\n",
    "import imghdr\n",
    "\n",
    "data_dir = \"../dataset/trashbox/train\"\n",
    "image_extensions = [\".png\", \".jpg\"]  # add there all your images file extensions\n",
    "\n",
    "img_type_accepted_by_tf = [\"bmp\", \"gif\", \"jpeg\", \"png\"]\n",
    "for filepath in Path(data_dir).rglob(\"*\"):\n",
    "    if filepath.suffix.lower() in image_extensions:\n",
    "        img_type = imghdr.what(filepath)\n",
    "        if img_type is None:\n",
    "            print(f\"{filepath} is not an image\")\n",
    "        elif img_type not in img_type_accepted_by_tf:\n",
    "            print(f\"{filepath} is a {img_type}, not accepted by TensorFlow\")"
   ]
  },
  {
   "cell_type": "code",
   "execution_count": 6,
   "id": "07650ece-ac8d-4359-8d26-8a2e6c676677",
   "metadata": {},
   "outputs": [],
   "source": [
    "import os\n",
    "from PIL import Image\n",
    "\n",
    "# Directory containing the dataset images\n",
    "dataset_directory = \"../dataset/trashbox/train\"\n",
    "\n",
    "# Iterate over each file in the dataset directory\n",
    "for filename in os.listdir(dataset_directory):\n",
    "    file_path = os.path.join(dataset_directory, filename)\n",
    "    \n",
    "    # Check if the file is an image\n",
    "    if os.path.isfile(file_path) and filename.lower().endswith(('.jpeg', '.jpg', '.png', '.gif', '.bmp')):\n",
    "        try:\n",
    "            # Attempt to open the image file\n",
    "            with Image.open(file_path) as img:\n",
    "                # Do any further processing or checks if required\n",
    "                # ...\n",
    "                pass\n",
    "        except (IOError, OSError) as e:\n",
    "            # If an error occurs during image opening or processing\n",
    "            print(f\"Invalid image file: {filename}\")\n",
    "            \n",
    "            # Optional: Delete the invalid file\n",
    "            os.remove(file_path)"
   ]
  },
  {
   "cell_type": "code",
   "execution_count": 8,
   "id": "b003554a-eb9e-4fae-9b98-adf0429eb3f3",
   "metadata": {},
   "outputs": [],
   "source": [
    "import os\n",
    "\n",
    "# Set the directory path of your dataset\n",
    "dataset_path = '../dataset/trashbox/train'\n",
    "\n",
    "# Set the list of valid image file extensions\n",
    "valid_extensions = ['.jpg', '.jpeg', '.png', '.gif']\n",
    "\n",
    "def remove_improper_images(directory):\n",
    "    for root, dirs, files in os.walk(directory):\n",
    "        for file in files:\n",
    "            file_path = os.path.join(root, file)\n",
    "            if not any(file_path.endswith(ext) for ext in valid_extensions):\n",
    "                print(f'Removing improper image file: {file_path}')\n",
    "                os.remove(file_path)\n",
    "\n",
    "# Call the function to remove improper image files\n",
    "remove_improper_images(dataset_path)"
   ]
  },
  {
   "cell_type": "code",
   "execution_count": 10,
   "id": "0c39f375-59b3-4c83-b794-74b76a286884",
   "metadata": {},
   "outputs": [
    {
     "data": {
      "text/plain": [
       "'/mnt/5C0C9BCC0C9B9F96/Perkuliahan/Tugas Akhir (TA)/GarbageClassifier/notebook'"
      ]
     },
     "execution_count": 10,
     "metadata": {},
     "output_type": "execute_result"
    }
   ],
   "source": [
    "pwd"
   ]
  },
  {
   "cell_type": "code",
   "execution_count": 12,
   "id": "2b9042d4-9eeb-4763-9a2f-b963c05dc4b1",
   "metadata": {},
   "outputs": [],
   "source": [
    "import os\n",
    "from PIL import Image\n",
    "\n",
    "def remove_improper_images(root_dir):\n",
    "    for root, _, files in os.walk(root_dir):\n",
    "        for file in files:\n",
    "            file_path = os.path.join(root, file)\n",
    "            try:\n",
    "                with Image.open(file_path) as img:\n",
    "                    img.verify()  # Check if the file is a valid image\n",
    "            except (IOError, SyntaxError) as e:\n",
    "                print(f\"Removing improper image: {file_path}\")\n",
    "                os.remove(file_path)\n",
    "\n",
    "# Usage: Specify the root directory of your dataset\n",
    "root_directory = \"../dataset/trashbox/train\"\n",
    "remove_improper_images(root_directory)"
   ]
  },
  {
   "cell_type": "code",
   "execution_count": 1,
   "id": "7328ec7e-6174-4803-8b68-7734c9fce05e",
   "metadata": {},
   "outputs": [],
   "source": [
    "import os\n",
    "import imghdr\n",
    "\n",
    "def remove_improper_images(root_dir):\n",
    "    for root, _, files in os.walk(root_dir):\n",
    "        for file in files:\n",
    "            file_path = os.path.join(root, file)\n",
    "            file_type = imghdr.what(file_path)\n",
    "            if file_type not in ['jpeg', 'png', 'gif', 'bmp']:\n",
    "                print(f\"Removing improper image: {file_path}\")\n",
    "                os.remove(file_path)\n",
    "\n",
    "# Usage: Specify the root directory of your dataset\n",
    "root_directory = \"../dataset/trashbox/train\"\n",
    "remove_improper_images(root_directory)"
   ]
  },
  {
   "cell_type": "code",
   "execution_count": 2,
   "id": "ed9b25ec-7297-4b9d-a2fa-4d35910a9c94",
   "metadata": {},
   "outputs": [],
   "source": [
    "import os\n",
    "from PIL import Image\n",
    "\n",
    "def remove_improper_images(root_dir):\n",
    "    for root, _, files in os.walk(root_dir):\n",
    "        for file in files:\n",
    "            file_path = os.path.join(root, file)\n",
    "            try:\n",
    "                with Image.open(file_path) as img:\n",
    "                    img.load()  # Attempt to load the image data\n",
    "            except (IOError, SyntaxError) as e:\n",
    "                print(f\"Removing improper image: {file_path}\")\n",
    "                os.remove(file_path)\n",
    "\n",
    "# Usage: Specify the root directory of your dataset\n",
    "root_directory = \"path/to/your/dataset\"\n",
    "remove_improper_images(root_directory)"
   ]
  },
  {
   "cell_type": "code",
   "execution_count": 4,
   "id": "055955be-8216-44ba-8946-093730c248e6",
   "metadata": {},
   "outputs": [],
   "source": [
    "import os\n",
    "import magic\n",
    "from PIL import Image\n",
    "\n",
    "def remove_improper_images(root_dir):\n",
    "    for root, _, files in os.walk(root_dir):\n",
    "        for file in files:\n",
    "            file_path = os.path.join(root, file)\n",
    "            file_type = magic.from_file(file_path, mime=True)\n",
    "            if file_type.startswith(\"image/\") or file_type.startswith(\"application/octet-stream\"):\n",
    "                try:\n",
    "                    with Image.open(file_path) as img:\n",
    "                        img.load()\n",
    "                except (OSError, SyntaxError) as e:\n",
    "                    print(f\"Removing improper image: {file_path}\")\n",
    "                    os.remove(file_path)\n",
    "            else:\n",
    "                print(f\"Removing unsupported file type: {file_path}\")\n",
    "                os.remove(file_path)\n",
    "\n",
    "# Usage: Specify the root directory of your dataset\n",
    "root_directory = \"../dataset/trashbox/train\"\n",
    "remove_improper_images(root_directory)"
   ]
  },
  {
   "cell_type": "code",
   "execution_count": 5,
   "id": "2db44db0-df1e-4694-8aea-ace9db4b29dd",
   "metadata": {},
   "outputs": [],
   "source": [
    "import os\n",
    "from PIL import Image\n",
    "\n",
    "def remove_improper_images(root_dir):\n",
    "    for root, _, files in os.walk(root_dir):\n",
    "        for file in files:\n",
    "            file_path = os.path.join(root, file)\n",
    "            try:\n",
    "                with Image.open(file_path) as img:\n",
    "                    img.verify()  # Check if the file is a valid image\n",
    "            except (IOError, SyntaxError) as e:\n",
    "                print(f\"Removing improper image: {file_path}\")\n",
    "                os.remove(file_path)\n",
    "\n",
    "# Usage: Specify the root directory of your dataset\n",
    "root_directory = \"../dataset/trashbox/train\"\n",
    "remove_improper_images(root_directory)"
   ]
  }
 ],
 "metadata": {
  "kernelspec": {
   "display_name": "Python 3 (ipykernel)",
   "language": "python",
   "name": "python3"
  },
  "language_info": {
   "codemirror_mode": {
    "name": "ipython",
    "version": 3
   },
   "file_extension": ".py",
   "mimetype": "text/x-python",
   "name": "python",
   "nbconvert_exporter": "python",
   "pygments_lexer": "ipython3",
   "version": "3.9.16"
  }
 },
 "nbformat": 4,
 "nbformat_minor": 5
}
